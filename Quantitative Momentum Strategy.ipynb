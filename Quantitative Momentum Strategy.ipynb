{
 "cells": [
  {
   "cell_type": "code",
   "execution_count": null,
   "id": "860df874",
   "metadata": {},
   "outputs": [],
   "source": [
    "'''\n",
    "An investment strategy that selects the 50 stocks with the\n",
    "highest price momentum\n",
    "'''"
   ]
  },
  {
   "cell_type": "code",
   "execution_count": null,
   "id": "3bac5f5e",
   "metadata": {},
   "outputs": [],
   "source": [
    "import numpy as np\n",
    "import pandas as pd\n",
    "import requests\n",
    "import math\n",
    "from scipy import stats\n",
    "import xlsxwriter"
   ]
  },
  {
   "cell_type": "code",
   "execution_count": null,
   "id": "bdc91486",
   "metadata": {},
   "outputs": [],
   "source": [
    "stocks = pd.read_csv('stocks.csv')\n",
    "from apitoken import IEX_CLOUD_API_TOKEN"
   ]
  },
  {
   "cell_type": "code",
   "execution_count": null,
   "id": "0cfced37",
   "metadata": {},
   "outputs": [],
   "source": [
    "def chunks(lst, n):\n",
    "    for i in range(0, len(lst), n):\n",
    "        yield lst[i:i + n]\n",
    "\n",
    "symbol_groups = list(chunks(stocks['Ticker'], 100))\n",
    "symbol_strings = []\n",
    "for i in range(0, len(symbol_groups)):\n",
    "    symbol_strings.append(','.join(symbol_groups[i]))\n",
    "\n",
    "my_columns = ['Ticker', 'Price', 'One-Year Price Return', 'Number of Shares to Buy']"
   ]
  },
  {
   "cell_type": "code",
   "execution_count": null,
   "id": "ed08bc0b",
   "metadata": {},
   "outputs": [],
   "source": [
    "final_dataframe = pd.DataFrame(columns = my_columns)\n",
    "\n",
    "for symbol_string in symbol_strings:\n",
    "    batch_api_call_url = f'https://cloud.iexapis.com/stable/stock/market/batch?symbols={symbol_string}&types=price,stats&token={IEX_CLOUD_API_TOKEN}'\n",
    "    data = requests.get(batch_api_call_url).json()\n",
    "    for symbol in symbol_string.split(','):\n",
    "        final_dataframe = final_dataframe.append(\n",
    "            pd.Series(\n",
    "            [\n",
    "                symbol,\n",
    "                data[symbol]['price'],\n",
    "                data[symbol]['stats']['year1ChangePercent'],\n",
    "                'N/A'\n",
    "            ],\n",
    "            index = my_columns),\n",
    "            ignore_index = True\n",
    "        ) \n",
    "\n",
    "final_dataframe"
   ]
  },
  {
   "cell_type": "code",
   "execution_count": null,
   "id": "2ddbdd91",
   "metadata": {},
   "outputs": [],
   "source": [
    "#remove low momentum stocks, 50 highest momentum stocks, highest momentum at the top\n",
    "final_dataframe.sort_values('One-Year Price Return', ascending = False, inplace = True)\n",
    "final_dataframe = final_dataframe[:50]\n",
    "final_dataframe.reset_index(inplace = True, drop = True)"
   ]
  },
  {
   "cell_type": "code",
   "execution_count": null,
   "id": "c34fb425",
   "metadata": {},
   "outputs": [],
   "source": [
    "#calculating the number of shares to buy\n",
    "while True:\n",
    "    try:\n",
    "        portfolio_size = float(input('Enter the value of your portfolio in £: '))\n",
    "        if portfolio_size > 0:\n",
    "            break\n",
    "        print('Please Enter a valid number: ')\n",
    "    except ValueError:\n",
    "        print('Please Enter a valid number: ')"
   ]
  },
  {
   "cell_type": "code",
   "execution_count": null,
   "id": "e559a424",
   "metadata": {},
   "outputs": [],
   "source": [
    "position_size = float(portfolio_size)/len(final_dataframe.index)\n",
    "for i in range(0, len(final_dataframe)):\n",
    "    final_dataframe.loc[i, 'Number of Shares to Buy'] = round(position_size/final_dataframe.loc[i, 'Price'], 5)\n",
    "\n",
    "final_dataframe"
   ]
  },
  {
   "cell_type": "code",
   "execution_count": null,
   "id": "d56a931e",
   "metadata": {},
   "outputs": [],
   "source": [
    "#more realistic momentum strategy, with high and low quality momentum stocks\n",
    "hqm_columns = ['Ticker', 'Price', 'Number of Shares to Buy',\n",
    "              'One Year Price Return', 'One Year Return Percentile',\n",
    "              'Six Month Price Return', 'Six Month Return Percentile',\n",
    "              'Three Month Price Return', 'Three Month Return Percentile',\n",
    "              'One Month Price Return', 'One Month Return Percentile',\n",
    "              'HQM Score']\n",
    "\n",
    "hqm_dataframe = pd.DataFrame(columns = hqm_columns)\n",
    "\n",
    "for symbol_string in symbol_strings:\n",
    "    batch_api_call_url = f'https://cloud.iexapis.com/stable/stock/market/batch?symbols={symbol_string}&types=price,stats&token={IEX_CLOUD_API_TOKEN}'\n",
    "    data = requests.get(batch_api_call_url).json()\n",
    "    for symbol in symbol_string.split(','):\n",
    "        hqm_dataframe = hqm_dataframe.append(\n",
    "            pd.Series(\n",
    "                [symbol, data[symbol]['price'], 'N/A',\n",
    "                data[symbol]['stats']['year1ChangePercent'],\n",
    "                'N/A',\n",
    "                data[symbol]['stats']['month6ChangePercent'],\n",
    "                'N/A',\n",
    "                data[symbol]['stats']['month3ChangePercent'],\n",
    "                'N/A',\n",
    "                data[symbol]['stats']['month1ChangePercent'],\n",
    "                'N/A',\n",
    "                'N/A'\n",
    "            ],\n",
    "            index = hqm_columns),\n",
    "            ignore_index = True\n",
    "        )"
   ]
  },
  {
   "cell_type": "code",
   "execution_count": null,
   "id": "a6d1da39",
   "metadata": {},
   "outputs": [],
   "source": [
    "hqm_dataframe = hqm_dataframe.dropna()"
   ]
  },
  {
   "cell_type": "code",
   "execution_count": null,
   "id": "9c28b957",
   "metadata": {},
   "outputs": [],
   "source": [
    "time_periods = ['One Year',\n",
    "               'Six Month',\n",
    "               'Three Month',\n",
    "               'One Month']\n",
    "\n",
    "for row in hqm_dataframe.index:\n",
    "    for time_period in time_periods:\n",
    "        change_col = f'{time_period} Price Return'\n",
    "        percentile_col = f'{time_period} Return Percentile'\n",
    "        hqm_dataframe.loc[row, percentile_col] = stats.percentileofscore(hqm_dataframe[change_col], hqm_dataframe.loc[row, change_col])\n",
    "\n",
    "hqm_dataframe"
   ]
  },
  {
   "cell_type": "code",
   "execution_count": null,
   "id": "ad3400c8",
   "metadata": {},
   "outputs": [],
   "source": [
    "from statistics import mean\n",
    "\n",
    "for row in hqm_dataframe.index:\n",
    "    momentum_percentiles = []\n",
    "    for time_period in time_periods:\n",
    "        momentum_percentiles.append(hqm_dataframe.loc[row, f'{time_period} Return Percentile'])\n",
    "    hqm_dataframe.loc[row, 'HQM Score'] = mean(momentum_percentiles)\n",
    "    \n",
    "hqm_dataframe"
   ]
  },
  {
   "cell_type": "code",
   "execution_count": null,
   "id": "39a68a3a",
   "metadata": {},
   "outputs": [],
   "source": [
    "hqm_dataframe.sort_values('HQM Score', ascending = False, inplace = True)\n",
    "hqm_dataframe = hqm_dataframe[:50]\n",
    "hqm_dataframe.reset_index(inplace = True, drop = True)\n",
    "hqm_dataframe"
   ]
  },
  {
   "cell_type": "code",
   "execution_count": null,
   "id": "396d949f",
   "metadata": {},
   "outputs": [],
   "source": [
    "#calculating the number of shares to buy\n",
    "while True:\n",
    "    try:\n",
    "        portfolio_size = float(input('Enter the value of your portfolio in £: '))\n",
    "        if portfolio_size > 0:\n",
    "            break\n",
    "        print('Please Enter a valid number: ')\n",
    "    except ValueError:\n",
    "        print('Please Enter a valid number: ')"
   ]
  },
  {
   "cell_type": "code",
   "execution_count": null,
   "id": "c2f57b99",
   "metadata": {},
   "outputs": [],
   "source": [
    "position_size = float(portfolio_size)/len(hqm_dataframe.index)\n",
    "for i in hqm_dataframe.index:\n",
    "    hqm_dataframe.loc[i, 'Number of Shares to Buy'] = round(position_size/hqm_dataframe.loc[i, 'Price'], 5)\n",
    "\n",
    "hqm_dataframe"
   ]
  },
  {
   "cell_type": "code",
   "execution_count": null,
   "id": "989ac733",
   "metadata": {},
   "outputs": [],
   "source": [
    "writer = pd.ExcelWriter('momentum_strategy.xlsx', engine = 'xlsxwriter')\n",
    "hqm_dataframe.to_excel(writer, sheet_name = 'Momentum Strategy', index = False)"
   ]
  },
  {
   "cell_type": "code",
   "execution_count": null,
   "id": "6420d4f1",
   "metadata": {},
   "outputs": [],
   "source": [
    "background_color = '#0a0a23'\n",
    "font_color = '#ffffff'\n",
    "\n",
    "string_format = writer.book.add_format({\n",
    "        'font_color': font_color,\n",
    "        'bg_color': background_color,\n",
    "        'border': 1\n",
    "})\n",
    "\n",
    "pound_format = writer.book.add_format({\n",
    "        'num_format': '£0.00',\n",
    "        'font_color': font_color,\n",
    "        'bg_color': background_color,\n",
    "        'border': 1\n",
    "})\n",
    "\n",
    "integer_format = writer.book.add_format({\n",
    "        'num_format': '0',\n",
    "        'font_color': font_color,\n",
    "        'bg_color': background_color,\n",
    "        'border': 1\n",
    "})\n",
    "\n",
    "percent_format = writer.book.add_format({\n",
    "        'num_format': '0.0%',\n",
    "        'font_color': font_color,\n",
    "        'bg_color': background_color,\n",
    "        'border': 1\n",
    "})"
   ]
  },
  {
   "cell_type": "code",
   "execution_count": null,
   "id": "6dd95ed0",
   "metadata": {},
   "outputs": [],
   "source": [
    "column_formats = {\n",
    "    'A': ['Ticker', string_format],\n",
    "    'B': ['Price', pound_format],\n",
    "    'C': ['Number of Shares to Buy', integer_format],\n",
    "    'D': ['One Year Price Return', percent_format],\n",
    "    'E': ['One Year Return Percentile', percent_format],\n",
    "    'F': ['Six Month Price Return', percent_format],\n",
    "    'G': ['Six Month Return Percentile', percent_format],\n",
    "    'H': ['Three Month Price Return', percent_format],\n",
    "    'I': ['Three Month Return Percentile', percent_format],\n",
    "    'J': ['One Month Price Return', percent_format],\n",
    "    'K': ['One Month Return Percentile', percent_format],\n",
    "    'L': ['HQM Score', percent_format]\n",
    "}\n",
    "\n",
    "for column in column_formats.keys():\n",
    "    writer.sheets['Momentum Strategy'].set_column(f'{column}:{column}', 18, string_format)\n",
    "\n",
    "writer.save()"
   ]
  }
 ],
 "metadata": {
  "kernelspec": {
   "display_name": "Python 3 (ipykernel)",
   "language": "python",
   "name": "python3"
  },
  "language_info": {
   "codemirror_mode": {
    "name": "ipython",
    "version": 3
   },
   "file_extension": ".py",
   "mimetype": "text/x-python",
   "name": "python",
   "nbconvert_exporter": "python",
   "pygments_lexer": "ipython3",
   "version": "3.11.4"
  }
 },
 "nbformat": 4,
 "nbformat_minor": 5
}
