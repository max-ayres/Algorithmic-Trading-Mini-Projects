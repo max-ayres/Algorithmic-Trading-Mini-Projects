{
 "cells": [
  {
   "cell_type": "code",
   "execution_count": null,
   "id": "f0256056",
   "metadata": {},
   "outputs": [],
   "source": [
    "'''\n",
    "Investing in stocks that are cheapest relative to common measures of business value\n",
    "Selects 50 best stocks from list of stocks\n",
    "'''"
   ]
  },
  {
   "cell_type": "code",
   "execution_count": null,
   "id": "248a91a8",
   "metadata": {},
   "outputs": [],
   "source": [
    "import numpy as np\n",
    "import pandas as pd\n",
    "import xlsxwriter\n",
    "import requests\n",
    "from scipy import stats"
   ]
  },
  {
   "cell_type": "code",
   "execution_count": null,
   "id": "9ec297a8",
   "metadata": {},
   "outputs": [],
   "source": [
    "stocks = pd.read_csv('stocks.csv')\n",
    "from apitoken import IEX_CLOUD_API_TOKEN"
   ]
  },
  {
   "cell_type": "code",
   "execution_count": null,
   "id": "16c82e31",
   "metadata": {},
   "outputs": [],
   "source": [
    "symbol = 'aapl'\n",
    "api_url = f'https://cloud.iexapis.com/stable/stock/{symbol}/quote?token={IEX_CLOUD_API_TOKEN}'\n",
    "data = requests.get(api_url).json()\n",
    "data"
   ]
  },
  {
   "cell_type": "code",
   "execution_count": null,
   "id": "62461e30",
   "metadata": {},
   "outputs": [],
   "source": [
    "price = data['peRatio']\n",
    "price"
   ]
  },
  {
   "cell_type": "code",
   "execution_count": null,
   "id": "5b68fda1",
   "metadata": {},
   "outputs": [],
   "source": [
    "#batch api call\n",
    "def chunks(lst, n):\n",
    "    for i in range(0, len(lst), n):\n",
    "        yield lst[i:i + n]\n",
    "    \n",
    "symbol_groups = list(chunks(stocks['Ticker'], 100))\n",
    "symbol_strings = []\n",
    "for i in range(0, len(symbol_groups)):\n",
    "    symbol_strings.append(','.join(symbol_groups[i]))\n",
    "    \n",
    "my_columns = ['Ticker', 'Price', 'P-E']"
   ]
  },
  {
   "cell_type": "code",
   "execution_count": null,
   "id": "27b6e179",
   "metadata": {},
   "outputs": [],
   "source": [
    "final_dataframe = pd.DataFrame(columns = my_columns)\n",
    "\n",
    "for symbol_string in symbol_strings:\n",
    "    batch_api_call_url = f'https://cloud.iexapis.com/stable/stock/market/batch?symbols={symbol_string}&types=quote&token={IEX_CLOUD_API_TOKEN}'\n",
    "    data = requests.get(batch_api_call_url).json()\n",
    "    for symbol in symbol_string.split(','):\n",
    "        final_dataframe = final_dataframe.append(\n",
    "            pd.Series([\n",
    "                symbol,\n",
    "                data[symbol]['quote']['latestPrice'],\n",
    "                data[symbol]['quote']['peRatio'],\n",
    "                ],\n",
    "                index = my_columns),\n",
    "            ignore_index = True)\n",
    "        \n",
    "final_dataframe"
   ]
  },
  {
   "cell_type": "code",
   "execution_count": null,
   "id": "c73e7d2b",
   "metadata": {},
   "outputs": [],
   "source": [
    "#choose top value stocks\n",
    "final_dataframe.sort_values('P-E', inplace = True)\n",
    "final_dataframe = final_dataframe[final_dataframe['P-E'] > 0]\n",
    "final_dataframe = final_dataframe[:50]\n",
    "final_dataframe.reset_index(inplace = True)\n",
    "final_dataframe.drop('index', axis = 1, inplace = True)"
   ]
  },
  {
   "cell_type": "code",
   "execution_count": null,
   "id": "4bd7834c",
   "metadata": {},
   "outputs": [],
   "source": [
    "final_dataframe"
   ]
  },
  {
   "cell_type": "code",
   "execution_count": null,
   "id": "62182da3",
   "metadata": {},
   "outputs": [],
   "source": [
    "#calculating the number of shares to buy\n",
    "while True:\n",
    "    try:\n",
    "        portfolio_size = float(input('Enter the value of your portfolio in £: '))\n",
    "        if portfolio_size > 0:\n",
    "            break\n",
    "        print('Please Enter a valid number: ')\n",
    "    except ValueError:\n",
    "        print('Please Enter a valid number: ')"
   ]
  },
  {
   "cell_type": "code",
   "execution_count": null,
   "id": "4feda7ca",
   "metadata": {},
   "outputs": [],
   "source": [
    "position_size = float(portfolio_size)/len(final_dataframe.index)\n",
    "for row in final_dataframe.index:\n",
    "    final_dataframe.loc[row, 'Number of Shares to Buy'] = round(position_size/final_dataframe.loc[row, 'Price'], 5)\n",
    "    \n",
    "final_dataframe"
   ]
  },
  {
   "cell_type": "code",
   "execution_count": null,
   "id": "6f7bcc73",
   "metadata": {},
   "outputs": [],
   "source": [
    "#more realistic value strategy\n",
    "'''\n",
    "using price to earning ratio\n",
    "price to book ratio\n",
    "price to sales ratio\n",
    "enterprise value divided by earnings before interest, taxes, depreciation, and amortization\n",
    "enterprise value divided by gross profit\n",
    "'''"
   ]
  },
  {
   "cell_type": "code",
   "execution_count": null,
   "id": "266f4825",
   "metadata": {},
   "outputs": [],
   "source": [
    "symbol = 'AAPL'\n",
    "batch_api_call_url = f'https://cloud.iexapis.com/stable/stock/market/batch?symbols={symbol}&types=quote,advanced-stats&token={IEX_CLOUD_API_TOKEN}'\n",
    "data = requests.get(batch_api_call_url).json()\n",
    "data\n",
    "\n",
    "pe_ratio = data[symbol]['quote']['peRatio']\n",
    "pb_ratio = data[symbol]['advanced-stats']['priceToBook']\n",
    "ps_ratio = data[symbol]['advanced-stats']['priceToSales']\n",
    "\n",
    "ev = data[symbol]['advanced-stats']['enterpriseValue']\n",
    "\n",
    "ev_to_ebitda = ev/data[symbol]['advanced-stats']['EBITDA']\n",
    "ev_to_gross = ev/data[symbol]['advanced-stats']['grossProfit']"
   ]
  },
  {
   "cell_type": "code",
   "execution_count": null,
   "id": "5ca6af90",
   "metadata": {},
   "outputs": [],
   "source": [
    "rv_columns = ['Ticker',\n",
    "             'Price',\n",
    "             'Number of Shares to Buy',\n",
    "             'P-E Ratio',\n",
    "             'P-E Percentile',\n",
    "             'P-B Ratio',\n",
    "             'P-B Percentile',\n",
    "             'P-S Ratio',\n",
    "             'PS Percentile',\n",
    "             'EV/EBITDA',\n",
    "             'EV/EBITDA Percentile',\n",
    "             'EV/GP',\n",
    "             'EV/GP Percentile',\n",
    "             'RV Score']\n",
    "\n",
    "rv_dataframe = pd.DataFrame(columns = rv_columns)\n",
    "\n",
    "for symbol_string in symbol_strings:\n",
    "    batch_api_call_url = f'https://cloud.iexapis.com/stable/stock/market/batch?symbols={symbol_string}&types=quote,advanced-stats&token={IEX_CLOUD_API_TOKEN}'\n",
    "    data = requests.get(batch_api_call_url).json()\n",
    "    for symbol in symbol_string.split(','):\n",
    "        ev = data[symbol]['advanced-stats']['enterpriseValue']\n",
    "        ebitda = data[symbol]['advanced-stats']['EBITDA']\n",
    "        gp = data[symbol]['advanced-stats']['grossProfit']\n",
    "        \n",
    "        try:\n",
    "            ev_to_ebitda = ev/ebitda\n",
    "        except TypeError:\n",
    "            ev_to_ebitda = np.NaN\n",
    "            \n",
    "        try:\n",
    "            ev_to_gross = ev/gp\n",
    "        except TypeError:\n",
    "            ev_to_gross = np.NaN\n",
    "            \n",
    "        rv_dataframe = rv_dataframe.append(\n",
    "            pd.Series([\n",
    "            symbol,\n",
    "            data[symbol]['quote']['latestPrice'],\n",
    "            'N/A',\n",
    "            data[symbol]['quote']['peRatio'],\n",
    "            'N/A',\n",
    "            data[symbol]['advanced-stats']['priceToBook'],\n",
    "            'N/A',\n",
    "            data[symbol]['advanced-stats']['priceToSales'],\n",
    "            'N/A',\n",
    "            ev_to_ebitda,\n",
    "            'N/A',\n",
    "            ev_to_gross,\n",
    "            'N/A',\n",
    "            'N/A'\n",
    "            ],\n",
    "            index = rv_columns),\n",
    "            ignore_index = True)"
   ]
  },
  {
   "cell_type": "code",
   "execution_count": null,
   "id": "a03313b4",
   "metadata": {},
   "outputs": [],
   "source": [
    "rv_dataframe"
   ]
  },
  {
   "cell_type": "code",
   "execution_count": null,
   "id": "eadd443d",
   "metadata": {},
   "outputs": [],
   "source": [
    "rv_dataframe[rv_dataframe.isnull().any(axis=1)]"
   ]
  },
  {
   "cell_type": "code",
   "execution_count": null,
   "id": "0e7e4ec2",
   "metadata": {},
   "outputs": [],
   "source": [
    "for column in ['P-E Ratio', 'P-B Ratio', 'P-S Ratio', 'EV/EBITDA', 'EV/GP']:\n",
    "    rv_dataframe[column].fillna(rv_dataframe[column].mean(), inplace = True)"
   ]
  },
  {
   "cell_type": "code",
   "execution_count": null,
   "id": "ddebc3e2",
   "metadata": {},
   "outputs": [],
   "source": [
    "rv_dataframe"
   ]
  },
  {
   "cell_type": "code",
   "execution_count": null,
   "id": "91a49440",
   "metadata": {},
   "outputs": [],
   "source": [
    "metrics = {'P-E Ratio':\n",
    "    'P-E Percentile',\n",
    "    'P-B Ratio':\n",
    "    'P-B Percentile',\n",
    "    'P-S Ratio':\n",
    "    'PS Percentile',\n",
    "    'EV/EBITDA':\n",
    "    'EV/EBITDA Percentile',\n",
    "    'EV/GP':\n",
    "    'EV/GP Percentile'}\n",
    "\n",
    "for metric in metrics.keys():\n",
    "    for row in rv_dataframe.index:\n",
    "        rv_dataframe.loc[row, metrics[metric]] = stats.percentileofscore(rv_dataframe[metric], rv_dataframe.loc[row, metric])\n",
    "        \n",
    "rv_dataframe"
   ]
  },
  {
   "cell_type": "code",
   "execution_count": null,
   "id": "1c8bd5da",
   "metadata": {},
   "outputs": [],
   "source": [
    "from statistics import mean\n",
    "\n",
    "for row in rv_dataframe.index:\n",
    "    value_percentiles = []\n",
    "    for metric in metrics.keys():\n",
    "        value_percentiles.append(rv_dataframe.loc[row, metrics[metric]])\n",
    "    rv_dataframe.loc[row, 'RV Score'] = mean(value_percentiles)\n",
    "rv_dataframe"
   ]
  },
  {
   "cell_type": "code",
   "execution_count": null,
   "id": "ea7ad801",
   "metadata": {},
   "outputs": [],
   "source": [
    "rv_dataframe.sort_values('RV Score', ascending = True, inplace = True)\n",
    "rv_dataframe.reset_index(inplace = True, drop = True)\n",
    "rv_dataframe = rv_dataframe[:50]\n",
    "rv_dataframe"
   ]
  },
  {
   "cell_type": "code",
   "execution_count": null,
   "id": "788f4b06",
   "metadata": {},
   "outputs": [],
   "source": [
    "position_size = float(portfolio_size)/len(rv_dataframe.index)\n",
    "\n",
    "for i in rv_dataframe.index:\n",
    "    rv_dataframe.loc[i, 'Number of Shares to Buy'] = round(position_size/rv_dataframe.loc[i, 'Price'], 5)\n",
    "\n",
    "rv_dataframe"
   ]
  },
  {
   "cell_type": "code",
   "execution_count": null,
   "id": "9b17666c",
   "metadata": {},
   "outputs": [],
   "source": []
  }
 ],
 "metadata": {
  "kernelspec": {
   "display_name": "Python 3 (ipykernel)",
   "language": "python",
   "name": "python3"
  },
  "language_info": {
   "codemirror_mode": {
    "name": "ipython",
    "version": 3
   },
   "file_extension": ".py",
   "mimetype": "text/x-python",
   "name": "python",
   "nbconvert_exporter": "python",
   "pygments_lexer": "ipython3",
   "version": "3.11.4"
  }
 },
 "nbformat": 4,
 "nbformat_minor": 5
}
