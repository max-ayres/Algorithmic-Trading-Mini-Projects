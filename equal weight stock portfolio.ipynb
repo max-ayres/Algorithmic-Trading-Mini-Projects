{
 "cells": [
  {
   "cell_type": "code",
   "execution_count": null,
   "id": "fe6db616",
   "metadata": {},
   "outputs": [],
   "source": [
    "'''\n",
    "using IEX API sandbox\n",
    "equal weight stock portfolio programme\n",
    "determine how many shares of each inputted stock\n",
    "doesn't weigh in market captilization so small companies will have larger weight than bigger companies\n",
    "'''"
   ]
  },
  {
   "cell_type": "code",
   "execution_count": null,
   "id": "3f73d857",
   "metadata": {},
   "outputs": [],
   "source": [
    "import numpy as np\n",
    "import pandas as pd\n",
    "import requests\n",
    "import xlsxwriter"
   ]
  },
  {
   "cell_type": "code",
   "execution_count": null,
   "id": "589c33a1",
   "metadata": {},
   "outputs": [],
   "source": [
    "stocks = pd.read_csv('stocks.csv')#list of snp 500 stocks\n",
    "stocks"
   ]
  },
  {
   "cell_type": "code",
   "execution_count": null,
   "id": "cd727e6d",
   "metadata": {},
   "outputs": [],
   "source": [
    "from apitoken import IEX_CLOUD_API_TOKEN"
   ]
  },
  {
   "cell_type": "code",
   "execution_count": null,
   "id": "90784ad3",
   "metadata": {},
   "outputs": [],
   "source": [
    "#test loop\n",
    "my_columns = ['Ticker', 'Stock Price', 'Market Capitalization', 'Number of Shares to Buy']\n",
    "final_dataframe = pd.DataFrame(columns = my_columns)\n",
    "\n",
    "for stock in stocks['Ticker'][:5]:\n",
    "    api_url = f'https://cloud.iexapis.com/stable/stock/{stock}/quote?token={IEX_CLOUD_API_TOKEN}'\n",
    "    data = requests.get(api_url).json()\n",
    "    final_dataframe = final_dataframe.append(pd.Series([stock, data['latestPrice'], data['marketCap'], 'N/A'], index = my_columns),\n",
    "                           ignore_index = True)\n",
    "final_dataframe   "
   ]
  },
  {
   "cell_type": "code",
   "execution_count": null,
   "id": "572d3910",
   "metadata": {},
   "outputs": [],
   "source": [
    "#use batch API calls for optimization, split list into sublists\n",
    "def chunks(lst, n):\n",
    "    for i in range(0, len(lst), n):\n",
    "        yield lst[i:i + n]"
   ]
  },
  {
   "cell_type": "code",
   "execution_count": null,
   "id": "d40978b2",
   "metadata": {},
   "outputs": [],
   "source": [
    "symbol_groups = list(chunks(stocks['Ticker'], 100))\n",
    "symbol_strings = []\n",
    "for i in range(0, len(symbol_groups)):\n",
    "    symbol_strings.append(','.join(symbol_groups[i]))\n",
    "\n",
    "final_dataframe = pd.DataFrame(columns = my_columns)\n",
    "\n",
    "#some stocks are not called in the batch_api_call_url for example 'ABC'\n",
    "#therefore I have only included the first 4 stocks\n",
    "\n",
    "for symbol_string in symbol_strings:\n",
    "    batch_api_call_url = f'https://cloud.iexapis.com/stable/stock/market/batch?symbols={symbol_string}&types=quote&token={IEX_CLOUD_API_TOKEN}'\n",
    "    data = requests.get(batch_api_call_url).json()\n",
    "    for symbol in symbol_string.split(','):\n",
    "        final_dataframe = final_dataframe.append(pd.Series([\n",
    "            symbol,\n",
    "            data[symbol]['quote']['latestPrice'],\n",
    "            data[symbol]['quote']['marketCap'],\n",
    "            'N/A'\n",
    "            ], index = my_columns), ignore_index = True)\n",
    "\n",
    "\n",
    "final_dataframe"
   ]
  },
  {
   "cell_type": "code",
   "execution_count": null,
   "id": "4a458672",
   "metadata": {},
   "outputs": [],
   "source": [
    "#calculating the number of shares to buy\n",
    "while True:\n",
    "    try:\n",
    "        portfolio_size = float(input('Enter the value of your portfolio in £: '))\n",
    "        if portfolio_size > 0:\n",
    "            break\n",
    "        print('Please Enter a valid number: ')\n",
    "    except ValueError:\n",
    "        print('Please Enter a valid number: ')"
   ]
  },
  {
   "cell_type": "code",
   "execution_count": null,
   "id": "33d57eb7",
   "metadata": {},
   "outputs": [],
   "source": [
    "position_size = portfolio_size/len(final_dataframe.index)\n",
    "for i in range(0, len(final_dataframe.index)):\n",
    "    final_dataframe.loc[i, 'Number of Shares to Buy'] = round(position_size/final_dataframe.loc[i, 'Stock Price'], 6)\n",
    "    \n",
    "final_dataframe"
   ]
  },
  {
   "cell_type": "code",
   "execution_count": null,
   "id": "ad11f262",
   "metadata": {},
   "outputs": [],
   "source": [
    "#formatting into an excel output\n",
    "writer = pd.ExcelWriter('trades.xlsx', engine = 'xlsxwriter')\n",
    "final_dataframe.to_excel(writer, 'trades', index = False)"
   ]
  },
  {
   "cell_type": "code",
   "execution_count": null,
   "id": "a6742ab8",
   "metadata": {},
   "outputs": [],
   "source": [
    "background_color = '#0a0a23'\n",
    "font_color = '#ffffff'\n",
    "\n",
    "string_format = writer.book.add_format({\n",
    "        'font_color': font_color,\n",
    "        'bg_color': background_color,\n",
    "        'border': 1\n",
    "})\n",
    "\n",
    "pound_format = writer.book.add_format({\n",
    "        'num_format': '£0.00',\n",
    "        'font_color': font_color,\n",
    "        'bg_color': background_color,\n",
    "        'border': 1\n",
    "})\n",
    "\n",
    "integer_format = writer.book.add_format({\n",
    "        'num_format': '0',\n",
    "        'font_color': font_color,\n",
    "        'bg_color': background_color,\n",
    "        'border': 1\n",
    "})"
   ]
  },
  {
   "cell_type": "code",
   "execution_count": null,
   "id": "5a1ccef7",
   "metadata": {},
   "outputs": [],
   "source": [
    "column_formats = {\n",
    "    'A': ['Ticker', string_format],\n",
    "    'B': ['Stock Price', pound_format],\n",
    "    'C': ['Market Capitalization', pound_format],\n",
    "    'D': ['Number of Shares to Buy', integer_format]\n",
    "}\n",
    "\n",
    "for column in column_formats.keys():\n",
    "    writer.sheets['trades'].set_column(f'{column}:{column}', 18, string_format)\n",
    "\n",
    "writer.save()"
   ]
  }
 ],
 "metadata": {
  "kernelspec": {
   "display_name": "Python 3 (ipykernel)",
   "language": "python",
   "name": "python3"
  },
  "language_info": {
   "codemirror_mode": {
    "name": "ipython",
    "version": 3
   },
   "file_extension": ".py",
   "mimetype": "text/x-python",
   "name": "python",
   "nbconvert_exporter": "python",
   "pygments_lexer": "ipython3",
   "version": "3.11.4"
  }
 },
 "nbformat": 4,
 "nbformat_minor": 5
}
